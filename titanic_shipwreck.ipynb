{
 "cells": [
  {
   "cell_type": "markdown",
   "metadata": {},
   "source": [
    "<img src=\"resources/titanic_sinking.gif\" alt=\"Titanic sinking gif\" style=\"margin: 10px auto 20px; border-radius: 15px;\" width=\"100%\"/>"
   ]
  },
  {
   "cell_type": "markdown",
   "metadata": {},
   "source": [
    "<a id=\"project-overview\"></a>\n",
    "_**Potonuće Titanika** jedno je od najozloglašenijih brodoloma u istoriji._\n",
    "\n",
    "_15. aprila 1912. godine, tokom njegovog prvog putovanja, široko smatrani „nepotopivi“ RMS Titanic potonuo je nakon sudara sa santom leda u severnom Atlantskom okeanu. Nažalost, nije bilo dovoljno čamaca za spasavanje za sve na brodu, što je rezultovalo smrću 1502 od 2224 putnika i posade._\n",
    "\n",
    "_Iako je u preživljavanju učestvovao neki element sreće, čini se da su neke grupe ljudi imale veću verovatnoću preživljavanja u odnosu na druge._\n",
    "\n",
    "Cilj projekta predstavlja prediktivni model koji odgovara na pitanje: _„za koje vrste ljudi je veća verovatnoća da će preživeti?“_ korišćenjem dostupnih podataka o putnicima (tj. ime, starost, pol, socijalno-ekonomska klasa, itd.).\n",
    "\n",
    "<hr>\n",
    "\n",
    "<a id=\"table-of-contents\"></a>\n",
    "### Pregled sadržaja:\n",
    "* [Pregled projekta](#project-overview)\n",
    "* [Učitavanje i opis skupa podataka](#loading-datasets)\n",
    "* [Provera relevantnosti kolona za model](#column-relevance)\n",
    "* [Kreiranje trening i test skupova podataka](#train-test-split)\n",
    "* [Evaluacija/bodovanje klasifikacionih algoritama](#model-scoring)\n",
    "* [Model i predikcija](#model-prediction)\n",
    "\n",
    "<hr>"
   ]
  },
  {
   "cell_type": "code",
   "execution_count": 1,
   "metadata": {},
   "outputs": [],
   "source": [
    "import numpy as np\n",
    "import pandas as pd\n",
    "import seaborn as sns\n",
    "import matplotlib.pyplot as plt\n",
    "from sklearn.model_selection import cross_val_score, cross_val_predict\n",
    "from sklearn.model_selection import train_test_split\n",
    "from sklearn.preprocessing import normalize, scale\n",
    "from sklearn.neighbors import KNeighborsClassifier\n",
    "from sklearn.ensemble import RandomForestClassifier\n",
    "from sklearn.linear_model import LogisticRegression, Perceptron\n",
    "from sklearn.svm import SVC\n",
    "\n",
    "%matplotlib inline"
   ]
  },
  {
   "cell_type": "markdown",
   "metadata": {},
   "source": [
    "### Učitavanje i opis skupa podataka <a id=\"loading-datasets\"></a>\n",
    "\n",
    "<a href=\"#table-of-contents\"> Povratak na pregled sadržaja </a>\n",
    "\n"
   ]
  },
  {
   "cell_type": "markdown",
   "metadata": {},
   "source": [
    "<div style=\"display: inline-block;\">\n",
    "\n",
    "    \n",
    "| Variable | Definition                               | Key                                            |\n",
    "|----------|------------------------------------------|------------------------------------------------|\n",
    "| Survived | Yes or No                                | 1 = Survived, 0 = Died                                         |\n",
    "| Pclass   | A proxy of socio-economic status (SES)   | 1 = Upper,  2 = Middle, 3 = Lower              |\n",
    "| Name     | Passenger name                           | e.g. Allen, Mr. William Henry                  |\n",
    "| Sex      | Passenger sex                            | male or female                                 |\n",
    "| Age      | Passenger age                            | integer                                        |\n",
    "| SibSp    | # of siblings/spouses aboard the Titanic | integer                                        |\n",
    "| Parch    | # of parents/children aboard the Titanic | integer                                        |\n",
    "| Ticket   | Ticket number                            | e.g. A/5 21171                                 |\n",
    "| Fare     | Passenger fare                           | float                                          |\n",
    "| Cabin    | Cabin number (str)                       | e.g. B42                                       |\n",
    "| Embarked | Port of Embarkation                      | C = Cherbourg, Q = Queenstown, S = Southampton |\n",
    "    \n",
    "    \n",
    "</div>\n",
    "\n",
    "- **train.csv** sadrži detalje o podskupu putnika na brodu (tačnije 891 putnik - gde svaki putnik predstavlja zaseban red u tabeli).\n",
    "- **test.csv** sadrži detalje o podskupu putnika na brodu (tačnije 418 putnika - gde svaki putnik predstavlja zaseban red u tabeli) ** **bez 'Survived' kolone**."
   ]
  },
  {
   "cell_type": "code",
   "execution_count": 2,
   "metadata": {},
   "outputs": [
    {
     "data": {
      "text/html": [
       "<div>\n",
       "<style scoped>\n",
       "    .dataframe tbody tr th:only-of-type {\n",
       "        vertical-align: middle;\n",
       "    }\n",
       "\n",
       "    .dataframe tbody tr th {\n",
       "        vertical-align: top;\n",
       "    }\n",
       "\n",
       "    .dataframe thead th {\n",
       "        text-align: right;\n",
       "    }\n",
       "</style>\n",
       "<table border=\"1\" class=\"dataframe\">\n",
       "  <thead>\n",
       "    <tr style=\"text-align: right;\">\n",
       "      <th></th>\n",
       "      <th>PassengerId</th>\n",
       "      <th>Survived</th>\n",
       "      <th>Pclass</th>\n",
       "      <th>Age</th>\n",
       "      <th>SibSp</th>\n",
       "      <th>Parch</th>\n",
       "      <th>Fare</th>\n",
       "    </tr>\n",
       "  </thead>\n",
       "  <tbody>\n",
       "    <tr>\n",
       "      <th>count</th>\n",
       "      <td>714.000000</td>\n",
       "      <td>714.000000</td>\n",
       "      <td>714.000000</td>\n",
       "      <td>714.000000</td>\n",
       "      <td>714.000000</td>\n",
       "      <td>714.000000</td>\n",
       "      <td>714.000000</td>\n",
       "    </tr>\n",
       "    <tr>\n",
       "      <th>mean</th>\n",
       "      <td>448.582633</td>\n",
       "      <td>0.406162</td>\n",
       "      <td>2.236695</td>\n",
       "      <td>29.699118</td>\n",
       "      <td>0.512605</td>\n",
       "      <td>0.431373</td>\n",
       "      <td>34.694514</td>\n",
       "    </tr>\n",
       "    <tr>\n",
       "      <th>std</th>\n",
       "      <td>259.119524</td>\n",
       "      <td>0.491460</td>\n",
       "      <td>0.838250</td>\n",
       "      <td>14.526497</td>\n",
       "      <td>0.929783</td>\n",
       "      <td>0.853289</td>\n",
       "      <td>52.918930</td>\n",
       "    </tr>\n",
       "    <tr>\n",
       "      <th>min</th>\n",
       "      <td>1.000000</td>\n",
       "      <td>0.000000</td>\n",
       "      <td>1.000000</td>\n",
       "      <td>0.420000</td>\n",
       "      <td>0.000000</td>\n",
       "      <td>0.000000</td>\n",
       "      <td>0.000000</td>\n",
       "    </tr>\n",
       "    <tr>\n",
       "      <th>25%</th>\n",
       "      <td>222.250000</td>\n",
       "      <td>0.000000</td>\n",
       "      <td>1.000000</td>\n",
       "      <td>20.125000</td>\n",
       "      <td>0.000000</td>\n",
       "      <td>0.000000</td>\n",
       "      <td>8.050000</td>\n",
       "    </tr>\n",
       "    <tr>\n",
       "      <th>50%</th>\n",
       "      <td>445.000000</td>\n",
       "      <td>0.000000</td>\n",
       "      <td>2.000000</td>\n",
       "      <td>28.000000</td>\n",
       "      <td>0.000000</td>\n",
       "      <td>0.000000</td>\n",
       "      <td>15.741700</td>\n",
       "    </tr>\n",
       "    <tr>\n",
       "      <th>75%</th>\n",
       "      <td>677.750000</td>\n",
       "      <td>1.000000</td>\n",
       "      <td>3.000000</td>\n",
       "      <td>38.000000</td>\n",
       "      <td>1.000000</td>\n",
       "      <td>1.000000</td>\n",
       "      <td>33.375000</td>\n",
       "    </tr>\n",
       "    <tr>\n",
       "      <th>max</th>\n",
       "      <td>891.000000</td>\n",
       "      <td>1.000000</td>\n",
       "      <td>3.000000</td>\n",
       "      <td>80.000000</td>\n",
       "      <td>5.000000</td>\n",
       "      <td>6.000000</td>\n",
       "      <td>512.329200</td>\n",
       "    </tr>\n",
       "  </tbody>\n",
       "</table>\n",
       "</div>"
      ],
      "text/plain": [
       "       PassengerId    Survived      Pclass         Age       SibSp  \\\n",
       "count   714.000000  714.000000  714.000000  714.000000  714.000000   \n",
       "mean    448.582633    0.406162    2.236695   29.699118    0.512605   \n",
       "std     259.119524    0.491460    0.838250   14.526497    0.929783   \n",
       "min       1.000000    0.000000    1.000000    0.420000    0.000000   \n",
       "25%     222.250000    0.000000    1.000000   20.125000    0.000000   \n",
       "50%     445.000000    0.000000    2.000000   28.000000    0.000000   \n",
       "75%     677.750000    1.000000    3.000000   38.000000    1.000000   \n",
       "max     891.000000    1.000000    3.000000   80.000000    5.000000   \n",
       "\n",
       "            Parch        Fare  \n",
       "count  714.000000  714.000000  \n",
       "mean     0.431373   34.694514  \n",
       "std      0.853289   52.918930  \n",
       "min      0.000000    0.000000  \n",
       "25%      0.000000    8.050000  \n",
       "50%      0.000000   15.741700  \n",
       "75%      1.000000   33.375000  \n",
       "max      6.000000  512.329200  "
      ]
     },
     "execution_count": 2,
     "metadata": {},
     "output_type": "execute_result"
    }
   ],
   "source": [
    "# ucitavanje skupova podataka\n",
    "train_df = pd.read_csv(\"datasets/train.csv\").dropna(subset=[\"Age\"])\n",
    "test_df = pd.read_csv(\"datasets/test.csv\")\n",
    "\n",
    "train_df.describe()"
   ]
  },
  {
   "cell_type": "markdown",
   "metadata": {},
   "source": [
    "### Provera relevantnosti kolona za model<a id=\"column-relevance\"></a>\n",
    "\n",
    "Potrebno je proveriti koje od kolona uticu na rezultat prezivljavanja odredjenog putnika.\n",
    "\n",
    "- Sex - Izracunavanjem srednje vrednosti smo ustanovili da je **pol** putnika igrao bitnu ulogu u prezivljavanju. (veci deo prezivelih je bio zenskog pola)\n",
    "- Pclass - Izracunavanjem srednje vrednosti smo ustanovili da je **socijalno-ekonomska klasa** putnika igrala bitnu ulogu u prezivljavanju\n",
    "- SibSp - Iz histograma mozemo zakljuciti da je vecina prezivelih imala manje od dvoje brace/sestara ili partnera na Titaniku, tako da je **broj brace/sestara/partnera** igrao bitnu ulogu u prezivljavanju.\n",
    "- Age - Iz histograma mozemo zakljuciti da je vecina prezivelih bila starosti od 20-40 godina.\n",
    "- Parch - Iz histograma mozemo zakljuciti da je vecina prezivelih imala manje od dva deteta ili roditelja na Titaniku, tako daje **broj dece/roditelja** igrao bitnu ulogu u prezivljavanju. \n",
    "- U 'Cabin' koloni postoje duplikati, verovatno zato sto su odredjeni putnici delili kabinu, takodje ima dosta nepotpunih podataka.\n",
    "- Vecina putnika se ukrcala u Southampton-u.\n",
    "- Ime putnika kao i identifikacioni broj putnika nemaju nikakav uticaj na prezivljavanje.\n",
    "\n",
    "<a href=\"#table-of-contents\"> Povratak na pregled sadržaja </a>"
   ]
  },
  {
   "cell_type": "code",
   "execution_count": 3,
   "metadata": {},
   "outputs": [
    {
     "data": {
      "image/png": "[encoded data removed]",
      "text/plain": [
       "<Figure size 288x288 with 1 Axes>"
      ]
     },
     "metadata": {
      "needs_background": "light"
     },
     "output_type": "display_data"
    },
    {
     "name": "stdout",
     "output_type": "stream",
     "text": [
      "Procenat muskaraca koji su preziveli iznosi 20.53%, a procenat zena 75.48%.\n",
      "\n"
     ]
    },
    {
     "data": {
      "image/png": "[encoded data removed]",
      "text/plain": [
       "<Figure size 288x288 with 1 Axes>"
      ]
     },
     "metadata": {
      "needs_background": "light"
     },
     "output_type": "display_data"
    },
    {
     "name": "stdout",
     "output_type": "stream",
     "text": [
      "Procenat prezivelih vise socijalno-ekonomske klase iznosi 65.59%, srednje 47.98%, i nize klase 23.94%.\n",
      "\n"
     ]
    },
    {
     "data": {
      "image/png": "[encoded data removed]",
      "text/plain": [
       "<Figure size 432x216 with 2 Axes>"
      ]
     },
     "metadata": {
      "needs_background": "light"
     },
     "output_type": "display_data"
    },
    {
     "data": {
      "image/png": "[encoded data removed]",
      "text/plain": [
       "<Figure size 432x216 with 2 Axes>"
      ]
     },
     "metadata": {
      "needs_background": "light"
     },
     "output_type": "display_data"
    },
    {
     "data": {
      "image/png": "[encoded data removed]",
      "text/plain": [
       "<Figure size 432x216 with 2 Axes>"
      ]
     },
     "metadata": {
      "needs_background": "light"
     },
     "output_type": "display_data"
    }
   ],
   "source": [
    "# Sex\n",
    "sns.catplot(x=\"Sex\", y =\"Survived\", data=train_df, kind=\"bar\", height=4)\n",
    "plt.show()\n",
    "\n",
    "men = np.mean(train_df.loc[train_df.Sex == 'male'][\"Survived\"])\n",
    "women = np.mean(train_df.loc[train_df.Sex == 'female'][\"Survived\"])\n",
    "\n",
    "print(f'Procenat muskaraca koji su preziveli iznosi {men * 100:.2f}%, a procenat zena {women * 100:.2f}%.\\n')\n",
    "\n",
    "# Pclass\n",
    "sns.catplot(x=\"Pclass\", y =\"Survived\", data=train_df, kind=\"bar\", height=4)\n",
    "plt.show()\n",
    "\n",
    "upper = np.mean(train_df.loc[train_df.Pclass == 1][\"Survived\"])\n",
    "middle = np.mean(train_df.loc[train_df.Pclass == 2][\"Survived\"])\n",
    "lower = np.mean(train_df.loc[train_df.Pclass == 3][\"Survived\"])\n",
    "\n",
    "print(f'Procenat prezivelih vise socijalno-ekonomske klase iznosi {upper * 100:.2f}%,',\n",
    "      f'srednje {middle * 100:.2f}%,',\n",
    "      f'i nize klase {lower * 100:.2f}%.\\n')\n",
    "\n",
    "# SibSp\n",
    "g = sns.FacetGrid(train_df, col='Survived')\n",
    "g.map(plt.hist, 'SibSp', bins=20)\n",
    "plt.show()\n",
    "\n",
    "# Age\n",
    "g = sns.FacetGrid(train_df, col='Survived')\n",
    "g.map(plt.hist, 'Age', bins=20)\n",
    "plt.show()\n",
    "\n",
    "# Parch\n",
    "g = sns.FacetGrid(train_df, col='Survived')\n",
    "g.map(plt.hist, 'Parch', bins=20)\n",
    "plt.show()"
   ]
  },
  {
   "cell_type": "markdown",
   "metadata": {},
   "source": [
    "### Kreiranje trening i test skupova podataka <a id=\"train-test-split\"></a>\n",
    "\n",
    "<a href=\"#table-of-contents\"> Povratak na pregled sadržaja </a>"
   ]
  },
  {
   "cell_type": "code",
   "execution_count": 4,
   "metadata": {},
   "outputs": [],
   "source": [
    "features = [\"Pclass\", \"Sex\", \"SibSp\", \"Parch\"]\n",
    "\n",
    "train_x = pd.get_dummies(train_df[features])\n",
    "train_y = train_df.Survived.to_numpy()\n",
    "\n",
    "test_x = pd.get_dummies(test_df[features])"
   ]
  },
  {
   "cell_type": "markdown",
   "metadata": {},
   "source": [
    "### Evaluacija/bodovanje klasifikacionih algoritama <a id=\"model-scoring\"></a>\n",
    "\n",
    "<a href=\"#table-of-contents\"> Povratak na pregled sadržaja </a>"
   ]
  },
  {
   "cell_type": "markdown",
   "metadata": {},
   "source": [
    "Bodovanjem 5 klasifikacionih algoritama cemo odrediti koji nam najvise odgovara za kreiranje prediktivnog modela.\n",
    "\n",
    "Algoritmi koji su bodovani/evaluirani:\n",
    "- Random Forest ❌\n",
    "- K Nearest Neighbor (KNN) ❌\n",
    "- Support Vector Machine (SVM) ✔️\n",
    "- Logistic Regression ❌\n",
    "- Perceptron ❌\n",
    "\n",
    "Evaluaciju smo vrsili sa '**cross_val_score**' metodom koja predstavlja nacin da iskoristimo trening podatke da bismo dobili dobre procene kako ce se model izvrsavati sa test podacima."
   ]
  },
  {
   "cell_type": "code",
   "execution_count": 13,
   "metadata": {},
   "outputs": [
    {
     "name": "stdout",
     "output_type": "stream",
     "text": [
      "Random Forest Score: 78.58%\n",
      "KNN Score: 77.86%\n",
      "SVM Score: 79.27%\n",
      "Logistic Regression Score: 78.28%\n",
      "Perceptron Score: 67.95%\n"
     ]
    }
   ],
   "source": [
    "\"\"\"\n",
    "Random Forest\n",
    "\"\"\"\n",
    "random_forest = RandomForestClassifier(n_estimators=200, max_depth=5, random_state=1)\n",
    "score = cross_val_score(random_forest, train_x, train_y, scoring='accuracy', cv=10).mean()\n",
    "print(f'Random Forest Score: {score * 100:.2f}%')\n",
    "\n",
    "\n",
    "\"\"\"\n",
    "KNN\n",
    "\"\"\"\n",
    "knn = KNeighborsClassifier(n_neighbors=25)\n",
    "score = cross_val_score(knn, train_x, train_y, scoring='accuracy', cv=10).mean()\n",
    "print(f'KNN Score: {score * 100:.2f}%')\n",
    "\n",
    "\n",
    "\"\"\"\n",
    "SVM\n",
    "\"\"\"\n",
    "svm = SVC(kernel=\"rbf\")\n",
    "score = cross_val_score(svm, train_x, train_y, scoring='accuracy', cv=10).mean()\n",
    "print(f'SVM Score: {score * 100:.2f}%')\n",
    "\n",
    "\n",
    "\"\"\"\n",
    "Logistic Regression\n",
    "\"\"\"\n",
    "log_reg = LogisticRegression(max_iter=2000)\n",
    "score = cross_val_score(log_reg, train_x, train_y, scoring='accuracy', cv=10).mean()\n",
    "print(f'Logistic Regression Score: {score * 100:.2f}%')\n",
    "\n",
    "\n",
    "\"\"\"\n",
    "Perceptron\n",
    "\"\"\"\n",
    "perceptron = Perceptron(random_state=1)\n",
    "score = cross_val_score(perceptron, train_x, train_y, scoring='accuracy', cv=10).mean()\n",
    "print(f'Perceptron Score: {score * 100:.2f}%')"
   ]
  },
  {
   "cell_type": "markdown",
   "metadata": {},
   "source": [
    "### Model i predikcija  <a id=\"model-prediction\"></a>\n",
    "\n",
    "<a href=\"#table-of-contents\"> Povratak na pregled sadržaja </a>"
   ]
  },
  {
   "cell_type": "markdown",
   "metadata": {},
   "source": [
    "S obzirom da smo pri evaluaciji 5 klasifikacionih algoritama videli da **Support Vector Machine** (_SVM_) klasifikator daje najbolje rezultate, njega cemo odabrati za kreiranje prediktivnog modela."
   ]
  },
  {
   "cell_type": "code",
   "execution_count": 6,
   "metadata": {},
   "outputs": [
    {
     "data": {
      "text/html": [
       "<div>\n",
       "<style scoped>\n",
       "    .dataframe tbody tr th:only-of-type {\n",
       "        vertical-align: middle;\n",
       "    }\n",
       "\n",
       "    .dataframe tbody tr th {\n",
       "        vertical-align: top;\n",
       "    }\n",
       "\n",
       "    .dataframe thead th {\n",
       "        text-align: right;\n",
       "    }\n",
       "</style>\n",
       "<table border=\"1\" class=\"dataframe\">\n",
       "  <thead>\n",
       "    <tr style=\"text-align: right;\">\n",
       "      <th></th>\n",
       "      <th>PassengerId</th>\n",
       "      <th>Survived</th>\n",
       "    </tr>\n",
       "  </thead>\n",
       "  <tbody>\n",
       "    <tr>\n",
       "      <th>0</th>\n",
       "      <td>892</td>\n",
       "      <td>0</td>\n",
       "    </tr>\n",
       "    <tr>\n",
       "      <th>1</th>\n",
       "      <td>893</td>\n",
       "      <td>1</td>\n",
       "    </tr>\n",
       "    <tr>\n",
       "      <th>2</th>\n",
       "      <td>894</td>\n",
       "      <td>0</td>\n",
       "    </tr>\n",
       "    <tr>\n",
       "      <th>3</th>\n",
       "      <td>895</td>\n",
       "      <td>0</td>\n",
       "    </tr>\n",
       "    <tr>\n",
       "      <th>4</th>\n",
       "      <td>896</td>\n",
       "      <td>1</td>\n",
       "    </tr>\n",
       "    <tr>\n",
       "      <th>...</th>\n",
       "      <td>...</td>\n",
       "      <td>...</td>\n",
       "    </tr>\n",
       "    <tr>\n",
       "      <th>413</th>\n",
       "      <td>1305</td>\n",
       "      <td>0</td>\n",
       "    </tr>\n",
       "    <tr>\n",
       "      <th>414</th>\n",
       "      <td>1306</td>\n",
       "      <td>1</td>\n",
       "    </tr>\n",
       "    <tr>\n",
       "      <th>415</th>\n",
       "      <td>1307</td>\n",
       "      <td>0</td>\n",
       "    </tr>\n",
       "    <tr>\n",
       "      <th>416</th>\n",
       "      <td>1308</td>\n",
       "      <td>0</td>\n",
       "    </tr>\n",
       "    <tr>\n",
       "      <th>417</th>\n",
       "      <td>1309</td>\n",
       "      <td>0</td>\n",
       "    </tr>\n",
       "  </tbody>\n",
       "</table>\n",
       "<p>418 rows × 2 columns</p>\n",
       "</div>"
      ],
      "text/plain": [
       "     PassengerId  Survived\n",
       "0            892         0\n",
       "1            893         1\n",
       "2            894         0\n",
       "3            895         0\n",
       "4            896         1\n",
       "..           ...       ...\n",
       "413         1305         0\n",
       "414         1306         1\n",
       "415         1307         0\n",
       "416         1308         0\n",
       "417         1309         0\n",
       "\n",
       "[418 rows x 2 columns]"
      ]
     },
     "execution_count": 6,
     "metadata": {},
     "output_type": "execute_result"
    }
   ],
   "source": [
    "svm.fit(train_x, train_y)\n",
    "predictions = svm.predict(test_x)\n",
    "\n",
    "output = pd.DataFrame({'PassengerId': test_df.PassengerId, 'Survived': predictions})\n",
    "output.to_csv('survival_prediction.csv', index=False)\n",
    "\n",
    "output"
   ]
  },
  {
   "attachments": {
    "4fb97ef8-ca3c-489f-9744-758ab04bef43.png": {
     "image/png": "[encoded data removed]"
    }
   },
   "cell_type": "markdown",
   "metadata": {},
   "source": [
    "### Score\n",
    "\n",
    "![Kaggle Score](attachment:4fb97ef8-ca3c-489f-9744-758ab04bef43.png)"
   ]
  }
 ],
 "metadata": {
  "kernelspec": {
   "display_name": "Python 3",
   "language": "python",
   "name": "python3"
  },
  "language_info": {
   "codemirror_mode": {
    "name": "ipython",
    "version": 3
   },
   "file_extension": ".py",
   "mimetype": "text/x-python",
   "name": "python",
   "nbconvert_exporter": "python",
   "pygments_lexer": "ipython3",
   "version": "3.9.0"
  }
 },
 "nbformat": 4,
 "nbformat_minor": 4
}
