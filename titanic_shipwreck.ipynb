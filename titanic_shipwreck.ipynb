{
 "cells": [
  {
   "cell_type": "markdown",
   "metadata": {},
   "source": [
    "<img src=\"resources/titanic_sinking.gif\" alt=\"Titanic sinking gif\" style=\"margin: 10px auto 20px;\" width=\"100%\"/>"
   ]
  },
  {
   "cell_type": "markdown",
   "metadata": {},
   "source": [
    "<a id=\"project-overview\"></a>\n",
    "_**Potonuće Titanika** jedno je od najozloglašenijih brodoloma u istoriji._\n",
    "\n",
    "_15. aprila 1912. godine, tokom njegovog prvog putovanja, široko smatrani „nepotopivi“ RMS Titanic potonuo je nakon sudara sa santom leda u severnom Atlantskom okeanu. Nažalost, nije bilo dovoljno čamaca za spasavanje za sve na brodu, što je rezultovalo smrću 1502 od 2224 putnika i posade._\n",
    "\n",
    "_Iako je u preživljavanju učestvovao neki element sreće, čini se da su neke grupe ljudi imale veću verovatnoću preživljavanja u odnosu na druge._\n",
    "\n",
    "Ovaj projekat predstavlja prediktivni model koji odgovara na pitanje: _„za koje vrste ljudi je veća verovatnoća da će preživeti?“_ korišćenjem dostupnih podataka o putnicima (tj. ime, starost, pol, socijalno-ekonomska klasa, itd.).\n",
    "\n",
    "<hr>\n",
    "\n",
    "<a id=\"table-of-contents\"></a>\n",
    "### Pregled sadržaja:\n",
    "* [Pregled projekta](#project-overview)\n",
    "* [Učitavanje i obrada skupa podataka](#loading-datasets)\n",
    "* [Prikaz test podataka u vidu histograma](#hist-display)\n",
    "\n",
    "<hr>"
   ]
  },
  {
   "cell_type": "code",
   "execution_count": 72,
   "metadata": {},
   "outputs": [],
   "source": [
    "import numpy as np\n",
    "import pandas as pd\n",
    "import matplotlib.pyplot as plt\n",
    "from sklearn.preprocessing import LabelEncoder"
   ]
  },
  {
   "cell_type": "markdown",
   "metadata": {},
   "source": [
    "### Učitavanje i obrada skupa podataka <a id=\"loading-datasets\"></a>\n",
    "<a href=\"#table-of-contents\"> Povratak na pregled sadržaja </a>"
   ]
  },
  {
   "cell_type": "markdown",
   "metadata": {},
   "source": [
    "<div style=\"display: inline-block;\">\n",
    "\n",
    "| Variable | Definition                               | Key                                            |\n",
    "|----------|------------------------------------------|------------------------------------------------|\n",
    "| Survived | Yes or No                                | 1 or 0                                         |\n",
    "| Pclass   | A proxy of socio-economic status (SES)   | 1 = Upper,  2 = Middle, 3 = Lower              |\n",
    "| Name     | Passenger name                           | e.g. Allen, Mr. William Henry                  |\n",
    "| Sex      | Passenger sex                            | male or female                                 |\n",
    "| Age      | Passenger age                            | integer                                        |\n",
    "| SibSp    | # of siblings/spouses aboard the Titanic | integer                                        |\n",
    "| Parch    | # of parents/children aboard the Titanic | integer                                        |\n",
    "| Ticket   | Ticket number                            | e.g. A/5 21171                                 |\n",
    "| Fare     | Passenger fare                           | float                                          |\n",
    "| Cabin    | Cabin number (str)                       | e.g. B42                                       |\n",
    "| Embarked | Port of Embarkation                      | C = Cherbourg, Q = Queenstown, S = Southampton |\n",
    "    \n",
    "    \n",
    "</div>"
   ]
  },
  {
   "cell_type": "code",
   "execution_count": 124,
   "metadata": {},
   "outputs": [],
   "source": [
    "# ucitavanje u uklanjanje redova koji imaju prazne celije ili celije sa vrednoscu NaN\n",
    "train_df = pd.read_csv(\"datasets/train.csv\", index_col=\"PassengerId\").dropna()\n",
    "test_df = pd.read_csv(\"datasets/test.csv\", index_col=\"PassengerId\").dropna()\n",
    "gender_submission_df = pd.read_csv(\"datasets/gender_submission.csv\").dropna()\n",
    "\n",
    "# kodiranje kategorickih podataka u numericke\n",
    "label_encoder = LabelEncoder()\n",
    "train_sex = label_encoder.fit_transform(train_df[\"Sex\"])\n",
    "test_sex = label_encoder.fit_transform(test_df[\"Sex\"])\n",
    "\n",
    "train_embarked = label_encoder.fit_transform(train_df[\"Embarked\"])\n",
    "test_embarked = label_encoder.fit_transform(test_df[\"Embarked\"])\n",
    "\n",
    "# podela na trening i test\n",
    "train_x = np.column_stack([train_df[\"Pclass\"], train_sex, train_df[\"SibSp\"], train_df[\"Fare\"], train_embarked])\n",
    "train_y = train_df[\"Survived\"]\n",
    "test_x =  np.column_stack([test_df[\"Pclass\"], test_sex, test_df[\"SibSp\"], test_df[\"Fare\"], test_embarked])"
   ]
  },
  {
   "cell_type": "markdown",
   "metadata": {},
   "source": [
    "### Prikaz test podataka u vidu histograma <a id=\"hist-display\"></a>\n",
    "<a href=\"#table-of-contents\"> Povratak na pregled sadržaja </a>"
   ]
  },
  {
   "cell_type": "code",
   "execution_count": 139,
   "metadata": {},
   "outputs": [
    {
     "data": {
      "image/png": "[encoded data removed]",
      "text/plain": [
       "<Figure size 1080x720 with 1 Axes>"
      ]
     },
     "metadata": {
      "needs_background": "light"
     },
     "output_type": "display_data"
    },
    {
     "data": {
      "image/png": "[encoded data removed]",
      "text/plain": [
       "<Figure size 1080x720 with 1 Axes>"
      ]
     },
     "metadata": {
      "needs_background": "light"
     },
     "output_type": "display_data"
    }
   ],
   "source": [
    "for category in [\"Age\", \"Sex\"]:\n",
    "    plt.figure(figsize=(15, 10))\n",
    "    plt.hist(test_df[category])\n",
    "    plt.title(category)\n",
    "    plt.show()"
   ]
  }
 ],
 "metadata": {
  "kernelspec": {
   "display_name": "Python 3",
   "language": "python",
   "name": "python3"
  },
  "language_info": {
   "codemirror_mode": {
    "name": "ipython",
    "version": 3
   },
   "file_extension": ".py",
   "mimetype": "text/x-python",
   "name": "python",
   "nbconvert_exporter": "python",
   "pygments_lexer": "ipython3",
   "version": "3.9.0"
  }
 },
 "nbformat": 4,
 "nbformat_minor": 4
}
